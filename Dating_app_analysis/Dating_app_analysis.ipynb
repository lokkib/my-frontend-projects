{
 "cells": [
  {
   "cell_type": "markdown",
   "metadata": {},
   "source": [
    "## Общее описание:\n",
    "\n",
    " В данном эксперименте мы проверяем, действительно ли качество сервиса\n",
    "<br>\n",
    "(приложение онлайн-знакомтсв) улучшится в случае  внедрения нового алгоритма поиска пар.\n",
    "\n",
    "Чтобы это проверить, решено разделить всех пользователей на две группы.\n",
    "    <br>\n",
    "    Пользователи в группе с номером 0 пользовались приложением со старым алгоритмом. \n",
    "\n",
    "Все пользователи в группе 1 пользовались приложением с новым алгоритмом для поиска анкет.\n",
    "\n",
    " \n",
    "\n",
    "## Описание данных\n",
    "\n",
    "- `user_id_1`,`user_id_2` - id пользователя из пары\n",
    "- `group` - экспериментальная группа\n",
    "- `is_match` - случился ли матч в паре\n",
    "\n",
    "\n",
    "\n",
    "### План\n",
    "\n",
    "**1. Планирование эксперимента: выбираем метрики, формулируем гипотезы эксперимента** \n",
    "\n",
    "**2. Подготовка к работе. Импорт необходимых библиотек и загрузка данных**\n",
    "   \n",
    "**3. Изучение данных. Визуализация кол-ва мэтчей в обеих группах и подсчет долей мэтчей в процентном соотношении**\n",
    "\n",
    "**4. Выбор и проведение теста. Формулирование выводов**\n",
    "\n",
    "\n"
   ]
  },
  {
   "cell_type": "markdown",
   "metadata": {},
   "source": [
    "<hr style=\"border:1px solid\">"
   ]
  },
  {
   "cell_type": "markdown",
   "metadata": {},
   "source": [
    "## 1. Планирование эксперимента: выбираем метрики, формулируем гипотезы эксперимента"
   ]
  },
  {
   "cell_type": "markdown",
   "metadata": {},
   "source": [
    "<u>Нулевая гипотеза эксперимента</u> - новый алгоритм существенно не повлиял на долю мэтчей в общих действиях\n",
    "<br>\n",
    "    пользователей по поиску пары.\n",
    "<br><br>\n",
    " <u>Альтернативная гипотеза эксперимента</u> - новый алгоритм поспособствовал увеличению доли мэтчей.\n",
    "\n",
    "\n",
    "Целевой метрикой, по которой будем судить об успешности нового алгоритма, будем считать соотношение кол-ва мэтчей к общему кол-ву действий по поиску пары.\n",
    "    \n",
    "MDE для такой метрики - это возможность засечь как минимум 10% увеличение доли мэтчей\n",
    "\n",
    " Таким образом, эксперимент будет удачен, т.е. будет подтверждено наличие минимального эффекта в случае стат. значимого увеличения \n",
    "<br>\n",
    "    доли мэтчей в процессе поиска пары в тестовой группе как минимум на 10%."
   ]
  },
  {
   "cell_type": "markdown",
   "metadata": {},
   "source": [
    "<hr style=\"border:1px solid\">"
   ]
  },
  {
   "cell_type": "markdown",
   "metadata": {},
   "source": [
    "## 2. Подготовка к работе. Импорт необходимых библиотек и загрузка данных"
   ]
  },
  {
   "cell_type": "code",
   "execution_count": 1,
   "metadata": {},
   "outputs": [],
   "source": [
    "import pandas as pd\n",
    "import seaborn as sns\n",
    "import matplotlib.pyplot as plt\n",
    "import scipy.stats as stats\n",
    "import statsmodels.api as sm\n",
    "import pingouin as pg\n",
    "%matplotlib inline\n",
    "\n",
    "import warnings\n",
    "warnings.filterwarnings(\"ignore\", category=DeprecationWarning) "
   ]
  },
  {
   "cell_type": "code",
   "execution_count": 2,
   "metadata": {},
   "outputs": [],
   "source": [
    "# Устанавливаем общие настройки для графиков\n",
    "\n",
    "sns.set(\n",
    "rc={\n",
    "    'figure.figsize':(46,15)\n",
    "},\n",
    "font_scale=2\n",
    ")"
   ]
  },
  {
   "cell_type": "code",
   "execution_count": 3,
   "metadata": {},
   "outputs": [],
   "source": [
    "# Загружаем данные\n",
    "\n",
    "df = pd.read_csv('../dating_data.csv')"
   ]
  },
  {
   "cell_type": "code",
   "execution_count": 4,
   "metadata": {},
   "outputs": [
    {
     "data": {
      "text/html": [
       "<div>\n",
       "<style scoped>\n",
       "    .dataframe tbody tr th:only-of-type {\n",
       "        vertical-align: middle;\n",
       "    }\n",
       "\n",
       "    .dataframe tbody tr th {\n",
       "        vertical-align: top;\n",
       "    }\n",
       "\n",
       "    .dataframe thead th {\n",
       "        text-align: right;\n",
       "    }\n",
       "</style>\n",
       "<table border=\"1\" class=\"dataframe\">\n",
       "  <thead>\n",
       "    <tr style=\"text-align: right;\">\n",
       "      <th></th>\n",
       "      <th>user_id_1</th>\n",
       "      <th>user_id_2</th>\n",
       "      <th>group</th>\n",
       "      <th>is_match</th>\n",
       "    </tr>\n",
       "  </thead>\n",
       "  <tbody>\n",
       "    <tr>\n",
       "      <th>0</th>\n",
       "      <td>79</td>\n",
       "      <td>91</td>\n",
       "      <td>1</td>\n",
       "      <td>1</td>\n",
       "    </tr>\n",
       "    <tr>\n",
       "      <th>1</th>\n",
       "      <td>716</td>\n",
       "      <td>353</td>\n",
       "      <td>1</td>\n",
       "      <td>1</td>\n",
       "    </tr>\n",
       "    <tr>\n",
       "      <th>2</th>\n",
       "      <td>423</td>\n",
       "      <td>677</td>\n",
       "      <td>0</td>\n",
       "      <td>0</td>\n",
       "    </tr>\n",
       "    <tr>\n",
       "      <th>3</th>\n",
       "      <td>658</td>\n",
       "      <td>165</td>\n",
       "      <td>1</td>\n",
       "      <td>1</td>\n",
       "    </tr>\n",
       "    <tr>\n",
       "      <th>4</th>\n",
       "      <td>969</td>\n",
       "      <td>155</td>\n",
       "      <td>0</td>\n",
       "      <td>1</td>\n",
       "    </tr>\n",
       "  </tbody>\n",
       "</table>\n",
       "</div>"
      ],
      "text/plain": [
       "   user_id_1  user_id_2  group  is_match\n",
       "0         79         91      1         1\n",
       "1        716        353      1         1\n",
       "2        423        677      0         0\n",
       "3        658        165      1         1\n",
       "4        969        155      0         1"
      ]
     },
     "execution_count": 4,
     "metadata": {},
     "output_type": "execute_result"
    }
   ],
   "source": [
    "# Смотрим на данные \n",
    "\n",
    "df.head()"
   ]
  },
  {
   "cell_type": "markdown",
   "metadata": {},
   "source": [
    "<hr style=\"border:1px solid\">"
   ]
  },
  {
   "cell_type": "markdown",
   "metadata": {},
   "source": [
    "## 3. Изучаем данные"
   ]
  },
  {
   "cell_type": "markdown",
   "metadata": {},
   "source": [
    "### 3.1. Проверяем данные на наличие пропущенных значений, строк-дубликатов, смотрим размер данных"
   ]
  },
  {
   "cell_type": "code",
   "execution_count": 24,
   "metadata": {},
   "outputs": [
    {
     "data": {
      "text/plain": [
       "(14514, 4)"
      ]
     },
     "execution_count": 24,
     "metadata": {},
     "output_type": "execute_result"
    }
   ],
   "source": [
    "# Смотрим на размер данных\n",
    "\n",
    "df.shape"
   ]
  },
  {
   "cell_type": "code",
   "execution_count": 6,
   "metadata": {},
   "outputs": [
    {
     "data": {
      "text/plain": [
       "user_id_1    int64\n",
       "user_id_2    int64\n",
       "group        int64\n",
       "is_match     int64\n",
       "dtype: object"
      ]
     },
     "execution_count": 6,
     "metadata": {},
     "output_type": "execute_result"
    }
   ],
   "source": [
    "# Смотрим на типы данных\n",
    "\n",
    "df.dtypes"
   ]
  },
  {
   "cell_type": "code",
   "execution_count": 7,
   "metadata": {},
   "outputs": [
    {
     "data": {
      "text/html": [
       "<div>\n",
       "<style scoped>\n",
       "    .dataframe tbody tr th:only-of-type {\n",
       "        vertical-align: middle;\n",
       "    }\n",
       "\n",
       "    .dataframe tbody tr th {\n",
       "        vertical-align: top;\n",
       "    }\n",
       "\n",
       "    .dataframe thead th {\n",
       "        text-align: right;\n",
       "    }\n",
       "</style>\n",
       "<table border=\"1\" class=\"dataframe\">\n",
       "  <thead>\n",
       "    <tr style=\"text-align: right;\">\n",
       "      <th></th>\n",
       "      <th>user_id_1</th>\n",
       "      <th>user_id_2</th>\n",
       "      <th>group</th>\n",
       "      <th>is_match</th>\n",
       "    </tr>\n",
       "  </thead>\n",
       "  <tbody>\n",
       "  </tbody>\n",
       "</table>\n",
       "</div>"
      ],
      "text/plain": [
       "Empty DataFrame\n",
       "Columns: [user_id_1, user_id_2, group, is_match]\n",
       "Index: []"
      ]
     },
     "execution_count": 7,
     "metadata": {},
     "output_type": "execute_result"
    }
   ],
   "source": [
    "# Проверяем данные на наличие дупликатов\n",
    "\n",
    "df.loc[df.duplicated()]"
   ]
  },
  {
   "cell_type": "code",
   "execution_count": 8,
   "metadata": {},
   "outputs": [
    {
     "data": {
      "text/plain": [
       "user_id_1    0\n",
       "user_id_2    0\n",
       "group        0\n",
       "is_match     0\n",
       "dtype: int64"
      ]
     },
     "execution_count": 8,
     "metadata": {},
     "output_type": "execute_result"
    }
   ],
   "source": [
    "# Проверяем данные на наличие пустых значений\n",
    "\n",
    "df.isna().sum()"
   ]
  },
  {
   "cell_type": "code",
   "execution_count": 9,
   "metadata": {},
   "outputs": [],
   "source": [
    "# Смотрим, насколько равномерно распределны юзеры по полу (user_id_1, user_id_2) в каждой из групп\n",
    "\n",
    "df_grouped_users = df.groupby('group', as_index=False).agg({'user_id_1':'nunique','user_id_2':'nunique'})"
   ]
  },
  {
   "cell_type": "code",
   "execution_count": 10,
   "metadata": {},
   "outputs": [
    {
     "data": {
      "text/html": [
       "<div>\n",
       "<style scoped>\n",
       "    .dataframe tbody tr th:only-of-type {\n",
       "        vertical-align: middle;\n",
       "    }\n",
       "\n",
       "    .dataframe tbody tr th {\n",
       "        vertical-align: top;\n",
       "    }\n",
       "\n",
       "    .dataframe thead th {\n",
       "        text-align: right;\n",
       "    }\n",
       "</style>\n",
       "<table border=\"1\" class=\"dataframe\">\n",
       "  <thead>\n",
       "    <tr style=\"text-align: right;\">\n",
       "      <th></th>\n",
       "      <th>group</th>\n",
       "      <th>user_id_1</th>\n",
       "      <th>user_id_2</th>\n",
       "    </tr>\n",
       "  </thead>\n",
       "  <tbody>\n",
       "    <tr>\n",
       "      <th>0</th>\n",
       "      <td>0</td>\n",
       "      <td>501</td>\n",
       "      <td>501</td>\n",
       "    </tr>\n",
       "    <tr>\n",
       "      <th>1</th>\n",
       "      <td>1</td>\n",
       "      <td>499</td>\n",
       "      <td>499</td>\n",
       "    </tr>\n",
       "  </tbody>\n",
       "</table>\n",
       "</div>"
      ],
      "text/plain": [
       "   group  user_id_1  user_id_2\n",
       "0      0        501        501\n",
       "1      1        499        499"
      ]
     },
     "execution_count": 10,
     "metadata": {},
     "output_type": "execute_result"
    }
   ],
   "source": [
    "df_grouped_users"
   ]
  },
  {
   "cell_type": "markdown",
   "metadata": {},
   "source": [
    "<b>Видим, что юзеров каждого из полов в двух группах распределено равное количество, что дает нам право удостовериться, что группы однородны</b>"
   ]
  },
  {
   "cell_type": "code",
   "execution_count": 25,
   "metadata": {},
   "outputs": [],
   "source": [
    "# Считаем размеры выборок в каждой из групп\n",
    "\n",
    "df_grouped_users['total_users'] = df_grouped_users.user_id_1 + df_grouped_users.user_id_2"
   ]
  },
  {
   "cell_type": "code",
   "execution_count": 26,
   "metadata": {},
   "outputs": [
    {
     "data": {
      "text/html": [
       "<div>\n",
       "<style scoped>\n",
       "    .dataframe tbody tr th:only-of-type {\n",
       "        vertical-align: middle;\n",
       "    }\n",
       "\n",
       "    .dataframe tbody tr th {\n",
       "        vertical-align: top;\n",
       "    }\n",
       "\n",
       "    .dataframe thead th {\n",
       "        text-align: right;\n",
       "    }\n",
       "</style>\n",
       "<table border=\"1\" class=\"dataframe\">\n",
       "  <thead>\n",
       "    <tr style=\"text-align: right;\">\n",
       "      <th></th>\n",
       "      <th>group</th>\n",
       "      <th>user_id_1</th>\n",
       "      <th>user_id_2</th>\n",
       "      <th>total_users</th>\n",
       "    </tr>\n",
       "  </thead>\n",
       "  <tbody>\n",
       "    <tr>\n",
       "      <th>0</th>\n",
       "      <td>0</td>\n",
       "      <td>501</td>\n",
       "      <td>501</td>\n",
       "      <td>1002</td>\n",
       "    </tr>\n",
       "    <tr>\n",
       "      <th>1</th>\n",
       "      <td>1</td>\n",
       "      <td>499</td>\n",
       "      <td>499</td>\n",
       "      <td>998</td>\n",
       "    </tr>\n",
       "  </tbody>\n",
       "</table>\n",
       "</div>"
      ],
      "text/plain": [
       "   group  user_id_1  user_id_2  total_users\n",
       "0      0        501        501         1002\n",
       "1      1        499        499          998"
      ]
     },
     "execution_count": 26,
     "metadata": {},
     "output_type": "execute_result"
    }
   ],
   "source": [
    "# В контрольной группе - 1002 пользователя.\n",
    "# В тестовой - 998 пользователей.\n",
    "\n",
    "df_grouped_users"
   ]
  },
  {
   "cell_type": "markdown",
   "metadata": {},
   "source": [
    "### 3.2. Визуализируем данные"
   ]
  },
  {
   "cell_type": "code",
   "execution_count": 12,
   "metadata": {
    "scrolled": true
   },
   "outputs": [
    {
     "data": {
      "image/png": "[encoded data removed]",
      "text/plain": [
       "<Figure size 3312x1080 with 1 Axes>"
      ]
     },
     "metadata": {},
     "output_type": "display_data"
    }
   ],
   "source": [
    "# Строим count plot кол-ва мэтчей в двух группах\n",
    "\n",
    "matches_in_groups = df[['group','is_match']].query('is_match == 1')\n",
    "\n",
    "\n",
    "sns.countplot(data=matches_in_groups, x='group')\n",
    "plt.ylabel('matches')\n",
    "plt.show()\n",
    "\n"
   ]
  },
  {
   "cell_type": "markdown",
   "metadata": {},
   "source": [
    "<b>Видим, что в абсолютном отношении кол-во мэтчей в тестовой группе выше почти в 4 раза, чем в контрольной.\n",
    "<br><br>\n",
    "Несмотря на превышение мэтчей в тестовой группе над мэтчами в контрольной в абсолютных цифрах, \n",
    "<br>\n",
    "необходимо посчитать общее количество мэтчей/немэтчей в каждой из групп, чтобы \n",
    "<br>\n",
    "сравнить доли мэтчей в каждой из групп и в общем поиске пары в процентном соотношени,\n",
    "<br>\n",
    "и уже проводить тест на стат. значимость в разнице выявленных коэффициентов.\n",
    "</b>"
   ]
  },
  {
   "cell_type": "markdown",
   "metadata": {},
   "source": [
    "### 3.3. Подсчет долей мэтчей в обеих группах в процентном соотношении"
   ]
  },
  {
   "cell_type": "code",
   "execution_count": 13,
   "metadata": {},
   "outputs": [],
   "source": [
    "# Для этого сначала строим таблицу сопряженности, чтобы выявить общее количество действий \n",
    "# в приложении в обоих группах.\n",
    "\n",
    "crosstable_table = pd.crosstab(df.group, df.is_match, margins=True)\n",
    "\n"
   ]
  },
  {
   "cell_type": "code",
   "execution_count": 14,
   "metadata": {},
   "outputs": [
    {
     "data": {
      "text/html": [
       "<div>\n",
       "<style scoped>\n",
       "    .dataframe tbody tr th:only-of-type {\n",
       "        vertical-align: middle;\n",
       "    }\n",
       "\n",
       "    .dataframe tbody tr th {\n",
       "        vertical-align: top;\n",
       "    }\n",
       "\n",
       "    .dataframe thead th {\n",
       "        text-align: right;\n",
       "    }\n",
       "</style>\n",
       "<table border=\"1\" class=\"dataframe\">\n",
       "  <thead>\n",
       "    <tr style=\"text-align: right;\">\n",
       "      <th>is_match</th>\n",
       "      <th>0</th>\n",
       "      <th>1</th>\n",
       "      <th>All</th>\n",
       "    </tr>\n",
       "    <tr>\n",
       "      <th>group</th>\n",
       "      <th></th>\n",
       "      <th></th>\n",
       "      <th></th>\n",
       "    </tr>\n",
       "  </thead>\n",
       "  <tbody>\n",
       "    <tr>\n",
       "      <th>0</th>\n",
       "      <td>3858</td>\n",
       "      <td>934</td>\n",
       "      <td>4792</td>\n",
       "    </tr>\n",
       "    <tr>\n",
       "      <th>1</th>\n",
       "      <td>5813</td>\n",
       "      <td>3909</td>\n",
       "      <td>9722</td>\n",
       "    </tr>\n",
       "    <tr>\n",
       "      <th>All</th>\n",
       "      <td>9671</td>\n",
       "      <td>4843</td>\n",
       "      <td>14514</td>\n",
       "    </tr>\n",
       "  </tbody>\n",
       "</table>\n",
       "</div>"
      ],
      "text/plain": [
       "is_match     0     1    All\n",
       "group                      \n",
       "0         3858   934   4792\n",
       "1         5813  3909   9722\n",
       "All       9671  4843  14514"
      ]
     },
     "execution_count": 14,
     "metadata": {},
     "output_type": "execute_result"
    }
   ],
   "source": [
    "crosstable_table"
   ]
  },
  {
   "cell_type": "markdown",
   "metadata": {},
   "source": [
    "<b>Видим, что в контрольной группе меньше не только мэтчей, но и в целом остальных действий в приложении по поиску пары.\n",
    "<br><br>\n",
    "Поэтому теперь, чтобы точно понимать, что в тестовой группе доля мэтчей к любым действиям в приложении \n",
    "<br>\n",
    "выше, чем в контрольной, считаем соответствующие доли мэтчей для обеих групп.</b>"
   ]
  },
  {
   "cell_type": "code",
   "execution_count": 15,
   "metadata": {},
   "outputs": [],
   "source": [
    "share_of_matches_control = ((crosstable_table.iloc[(0,1)] / crosstable_table.loc[(0,'All')]) * 100).round(1)"
   ]
  },
  {
   "cell_type": "code",
   "execution_count": 16,
   "metadata": {},
   "outputs": [
    {
     "data": {
      "text/plain": [
       "19.5"
      ]
     },
     "execution_count": 16,
     "metadata": {},
     "output_type": "execute_result"
    }
   ],
   "source": [
    "share_of_matches_control"
   ]
  },
  {
   "cell_type": "markdown",
   "metadata": {},
   "source": [
    "<b><u>19.5%</u> - доля мэтчей в действиях по поиску пары в контрольной группе</b>"
   ]
  },
  {
   "cell_type": "code",
   "execution_count": 17,
   "metadata": {},
   "outputs": [],
   "source": [
    "share_of_matches_control = ((crosstable_table.iloc[(1,1)] / crosstable_table.loc[(1,'All')]) * 100).round(1)"
   ]
  },
  {
   "cell_type": "code",
   "execution_count": 18,
   "metadata": {
    "scrolled": true
   },
   "outputs": [
    {
     "data": {
      "text/plain": [
       "40.2"
      ]
     },
     "execution_count": 18,
     "metadata": {},
     "output_type": "execute_result"
    }
   ],
   "source": [
    "share_of_matches_control"
   ]
  },
  {
   "cell_type": "markdown",
   "metadata": {},
   "source": [
    "<b><u>40%</u> - доля мэтчей в действиях по поиску пары в тестовой группе</b>"
   ]
  },
  {
   "cell_type": "markdown",
   "metadata": {},
   "source": [
    "<b>\n",
    "Таким образом, предварительно выявлено, что процент мэтчей в тестовой группе\n",
    "на 20% превышает процент мэтчей в контрольной. \n",
    "\n",
    "В рамках дальнейшего эксперимента необходимо будет проверить, является ли данная разница статистически значимой. \n",
    "</b>"
   ]
  },
  {
   "cell_type": "markdown",
   "metadata": {},
   "source": [
    "<hr style=\"border:1px solid\">"
   ]
  },
  {
   "cell_type": "markdown",
   "metadata": {},
   "source": [
    "## 4. Выбираем тест и проводим тест. Формулируем выводы"
   ]
  },
  {
   "cell_type": "code",
   "execution_count": 19,
   "metadata": {},
   "outputs": [],
   "source": [
    "# Для выбора правильного теста выводим таблицу сопряженноси\n",
    "\n",
    "crosstable_table = crosstable_table.drop(columns='All', index='All')"
   ]
  },
  {
   "cell_type": "code",
   "execution_count": 20,
   "metadata": {},
   "outputs": [
    {
     "data": {
      "text/html": [
       "<div>\n",
       "<style scoped>\n",
       "    .dataframe tbody tr th:only-of-type {\n",
       "        vertical-align: middle;\n",
       "    }\n",
       "\n",
       "    .dataframe tbody tr th {\n",
       "        vertical-align: top;\n",
       "    }\n",
       "\n",
       "    .dataframe thead th {\n",
       "        text-align: right;\n",
       "    }\n",
       "</style>\n",
       "<table border=\"1\" class=\"dataframe\">\n",
       "  <thead>\n",
       "    <tr style=\"text-align: right;\">\n",
       "      <th>is_match</th>\n",
       "      <th>0</th>\n",
       "      <th>1</th>\n",
       "    </tr>\n",
       "    <tr>\n",
       "      <th>group</th>\n",
       "      <th></th>\n",
       "      <th></th>\n",
       "    </tr>\n",
       "  </thead>\n",
       "  <tbody>\n",
       "    <tr>\n",
       "      <th>0</th>\n",
       "      <td>3858</td>\n",
       "      <td>934</td>\n",
       "    </tr>\n",
       "    <tr>\n",
       "      <th>1</th>\n",
       "      <td>5813</td>\n",
       "      <td>3909</td>\n",
       "    </tr>\n",
       "  </tbody>\n",
       "</table>\n",
       "</div>"
      ],
      "text/plain": [
       "is_match     0     1\n",
       "group               \n",
       "0         3858   934\n",
       "1         5813  3909"
      ]
     },
     "execution_count": 20,
     "metadata": {},
     "output_type": "execute_result"
    }
   ],
   "source": [
    "crosstable_table"
   ]
  },
  {
   "cell_type": "markdown",
   "metadata": {},
   "source": [
    "<b>\n",
    "Поскольку значения ожидаемых и наблюдаемых частот в каждой ячейке больше 10, \n",
    "<br>\n",
    "выбираем критерий независимости Хи-квадрат Пирсона, который используется,чтобы определить,\n",
    "<br>зависит ли распределение одной категориальной переменной от другой.\n",
    "<br>\n",
    "\n",
    "В данном случае у нас бинарная переменная (мэтч/немэтч, 1/0), которая может по-разному\n",
    "<br>распределяться в тестовой и контрольной группах.\n",
    "\n",
    "H0 : Новый алгоритм статистически не увеличивает долю мэтчей по сравнению с долей в контрольной группе, которая равна 19.5%.\n",
    "<br><br>\n",
    "H1 :  Новый алгоритм статистически увеличивает долю мэтчей в тестовой группе по сравнению с контрольной группой.\n",
    "\n",
    "\n",
    "</b>\n",
    "\n"
   ]
  },
  {
   "cell_type": "code",
   "execution_count": 21,
   "metadata": {},
   "outputs": [],
   "source": [
    "# Проводим тест, используя пакет scipy.stats\n",
    "\n",
    "results = stats.chi2_contingency(crosstable_table)"
   ]
  },
  {
   "cell_type": "code",
   "execution_count": 23,
   "metadata": {},
   "outputs": [
    {
     "data": {
      "text/plain": [
       "(618.6889141576198,\n",
       " 1.4418299163662586e-136,\n",
       " 1,\n",
       " array([[3193.01584677, 1598.98415323],\n",
       "        [6477.98415323, 3244.01584677]]))"
      ]
     },
     "execution_count": 23,
     "metadata": {},
     "output_type": "execute_result"
    }
   ],
   "source": [
    "results"
   ]
  },
  {
   "cell_type": "code",
   "execution_count": 22,
   "metadata": {},
   "outputs": [
    {
     "name": "stdout",
     "output_type": "stream",
     "text": [
      "p-значение - 1.4418299163662586e-136\n"
     ]
    }
   ],
   "source": [
    "print(f'p-значение - {results[1]}')"
   ]
  },
  {
   "cell_type": "markdown",
   "metadata": {},
   "source": [
    "<b> Вывод: поскольку p-value по Пирсону оказался намного меньше 0.05, мы отвергаем H0 и делаем вывод о том, что наличествуют стат. различия в кол-вах мэтчей в контрольной и тестовой группах. \n",
    "\n",
    " В данном случае мы получили стат. значимые различия в 20% между пропорциями мэтчей в контрольной и тестовой группах. Это больше, чем MDE (10%).\n",
    "\n",
    " Следовательно, поскольку кол-во мэтчей в тестовой группе (с новым алгоритмом) стат. значимо больше, делаем вывод: <u>можем выкатывать новый алгоритм подбора пар.</u></b> "
   ]
  }
 ],
 "metadata": {
  "kernelspec": {
   "display_name": "Python 3",
   "language": "python",
   "name": "python3"
  },
  "language_info": {
   "codemirror_mode": {
    "name": "ipython",
    "version": 3
   },
   "file_extension": ".py",
   "mimetype": "text/x-python",
   "name": "python",
   "nbconvert_exporter": "python",
   "pygments_lexer": "ipython3",
   "version": "3.7.3"
  }
 },
 "nbformat": 4,
 "nbformat_minor": 4
}
